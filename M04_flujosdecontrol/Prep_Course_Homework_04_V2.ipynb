{
 "cells": [
  {
   "attachments": {},
   "cell_type": "markdown",
   "metadata": {},
   "source": [
    "## Flujos de Control"
   ]
  },
  {
   "attachments": {},
   "cell_type": "markdown",
   "metadata": {},
   "source": [
    "1) Crear una variable que contenga un elemento del conjunto de números enteros y luego imprimir por pantalla si es mayor o menor a cero"
   ]
  },
  {
   "cell_type": "code",
   "execution_count": 8,
   "metadata": {},
   "outputs": [
    {
     "name": "stdout",
     "output_type": "stream",
     "text": [
      "Collecting mediapipe\n",
      "  Using cached mediapipe-0.10.3-cp311-cp311-win_amd64.whl (50.2 MB)\n",
      "Collecting absl-py (from mediapipe)\n",
      "  Using cached absl_py-1.4.0-py3-none-any.whl (126 kB)\n",
      "Collecting attrs>=19.1.0 (from mediapipe)\n",
      "  Using cached attrs-23.1.0-py3-none-any.whl (61 kB)\n",
      "Requirement already satisfied: flatbuffers>=2.0 in c:\\users\\daviid\\appdata\\local\\programs\\python\\python311\\lib\\site-packages (from mediapipe) (23.5.26)\n",
      "Collecting matplotlib (from mediapipe)\n",
      "  Using cached matplotlib-3.7.2-cp311-cp311-win_amd64.whl (7.5 MB)\n",
      "Requirement already satisfied: numpy in c:\\users\\daviid\\appdata\\local\\programs\\python\\python311\\lib\\site-packages (from mediapipe) (1.25.2)\n",
      "Collecting opencv-contrib-python (from mediapipe)\n",
      "  Using cached opencv_contrib_python-4.8.0.76-cp37-abi3-win_amd64.whl (44.8 MB)\n",
      "Requirement already satisfied: protobuf<4,>=3.11 in c:\\users\\daviid\\appdata\\local\\programs\\python\\python311\\lib\\site-packages (from mediapipe) (3.20.3)\n",
      "Collecting sounddevice>=0.4.4 (from mediapipe)\n",
      "  Using cached sounddevice-0.4.6-py3-none-win_amd64.whl (199 kB)\n",
      "Collecting CFFI>=1.0 (from sounddevice>=0.4.4->mediapipe)\n",
      "  Using cached cffi-1.15.1-cp311-cp311-win_amd64.whl (179 kB)\n",
      "Collecting contourpy>=1.0.1 (from matplotlib->mediapipe)\n",
      "  Using cached contourpy-1.1.0-cp311-cp311-win_amd64.whl (470 kB)\n",
      "Collecting cycler>=0.10 (from matplotlib->mediapipe)\n",
      "  Using cached cycler-0.11.0-py3-none-any.whl (6.4 kB)\n",
      "Collecting fonttools>=4.22.0 (from matplotlib->mediapipe)\n",
      "  Using cached fonttools-4.42.1-cp311-cp311-win_amd64.whl (2.1 MB)\n",
      "Collecting kiwisolver>=1.0.1 (from matplotlib->mediapipe)\n",
      "  Using cached kiwisolver-1.4.5-cp311-cp311-win_amd64.whl (56 kB)\n",
      "Requirement already satisfied: packaging>=20.0 in c:\\users\\daviid\\appdata\\roaming\\python\\python311\\site-packages (from matplotlib->mediapipe) (23.1)\n",
      "Requirement already satisfied: pillow>=6.2.0 in c:\\users\\daviid\\appdata\\local\\programs\\python\\python311\\lib\\site-packages (from matplotlib->mediapipe) (10.0.0)\n",
      "Requirement already satisfied: pyparsing<3.1,>=2.3.1 in c:\\users\\daviid\\appdata\\local\\programs\\python\\python311\\lib\\site-packages (from matplotlib->mediapipe) (3.0.9)\n",
      "Requirement already satisfied: python-dateutil>=2.7 in c:\\users\\daviid\\appdata\\roaming\\python\\python311\\site-packages (from matplotlib->mediapipe) (2.8.2)\n",
      "Requirement already satisfied: pycparser in c:\\users\\daviid\\appdata\\local\\programs\\python\\python311\\lib\\site-packages (from CFFI>=1.0->sounddevice>=0.4.4->mediapipe) (2.21)\n",
      "Requirement already satisfied: six>=1.5 in c:\\users\\daviid\\appdata\\roaming\\python\\python311\\site-packages (from python-dateutil>=2.7->matplotlib->mediapipe) (1.16.0)\n",
      "Installing collected packages: opencv-contrib-python, kiwisolver, fonttools, cycler, contourpy, CFFI, attrs, absl-py, sounddevice, matplotlib, mediapipe\n",
      "Note: you may need to restart the kernel to use updated packages.\n"
     ]
    },
    {
     "name": "stderr",
     "output_type": "stream",
     "text": [
      "ERROR: Could not install packages due to an OSError: [WinError 5] Acceso denegado: 'c:\\\\Users\\\\Daviid\\\\AppData\\\\Local\\\\Programs\\\\Python\\\\Python311\\\\Lib\\\\site-packages\\\\cv2\\\\cv2.pyd'\n",
      "Consider using the `--user` option or check the permissions.\n",
      "\n",
      "\n",
      "[notice] A new release of pip is available: 23.1.2 -> 23.2.1\n",
      "[notice] To update, run: python.exe -m pip install --upgrade pip\n"
     ]
    }
   ],
   "source": [
    "pip install mediapipe"
   ]
  },
  {
   "cell_type": "code",
   "execution_count": 23,
   "metadata": {},
   "outputs": [
    {
     "ename": "ModuleNotFoundError",
     "evalue": "No module named 'mediapipe'",
     "output_type": "error",
     "traceback": [
      "\u001b[1;31m---------------------------------------------------------------------------\u001b[0m",
      "\u001b[1;31mModuleNotFoundError\u001b[0m                       Traceback (most recent call last)",
      "Cell \u001b[1;32mIn[23], line 2\u001b[0m\n\u001b[0;32m      1\u001b[0m \u001b[39mimport\u001b[39;00m \u001b[39mcv2\u001b[39;00m\n\u001b[1;32m----> 2\u001b[0m \u001b[39mimport\u001b[39;00m \u001b[39mmediapipe\u001b[39;00m \u001b[39mas\u001b[39;00m \u001b[39mmp\u001b[39;00m\n\u001b[0;32m      4\u001b[0m \u001b[39m# Inicializar MediaPipe Hands\u001b[39;00m\n\u001b[0;32m      5\u001b[0m mp_hands \u001b[39m=\u001b[39m mp\u001b[39m.\u001b[39msolutions\u001b[39m.\u001b[39mhands\n",
      "\u001b[1;31mModuleNotFoundError\u001b[0m: No module named 'mediapipe'"
     ]
    }
   ],
   "source": [
    "import cv2\n",
    "import mediapipe as mp\n",
    "\n",
    "# Inicializar MediaPipe Hands\n",
    "mp_hands = mp.solutions.hands\n",
    "hands = mp_hands.Hands()\n",
    "\n",
    "# Inicializar el dibujado de puntos y conexiones\n",
    "mp_drawing = mp.solutions.drawing_utils\n",
    "\n",
    "# Inicializar la cámara\n",
    "cap = cv2.VideoCapture(0)  # 0 representa la cámara predeterminada\n",
    "\n",
    "while True:\n",
    "    # Leer un fotograma de la cámara\n",
    "    ret, frame = cap.read()\n",
    "\n",
    "    # Convertir el fotograma a escala de grises para la detección de manos\n",
    "    frame_rgb = cv2.cvtColor(frame, cv2.COLOR_BGR2RGB)\n",
    "    results = hands.process(frame_rgb)\n",
    "\n",
    "    # Dibujar puntos y conexiones de las manos\n",
    "    if results.multi_hand_landmarks:\n",
    "        for landmarks in results.multi_hand_landmarks:\n",
    "            mp_drawing.draw_landmarks(frame, landmarks, mp_hands.HAND_CONNECTIONS)\n",
    "\n",
    "            # Aquí puedes agregar lógica para reconocer letras basadas en la posición de los puntos de las manos\n",
    "            # Por ejemplo, puedes verificar la posición de los dedos para determinar la letra que se muestra.\n",
    "\n",
    "    # Mostrar el fotograma resultante\n",
    "    cv2.imshow('Detección de Manos', frame)\n",
    "\n",
    "    # Salir del bucle si se presiona la tecla 'q'\n",
    "    if cv2.waitKey(1) & 0xFF == ord('q'):\n",
    "        break\n",
    "\n",
    "# Liberar la cámara y cerrar la ventana\n",
    "cap.release()\n",
    "cv2.destroyAllWindows()"
   ]
  },
  {
   "cell_type": "code",
   "execution_count": 1,
   "metadata": {},
   "outputs": [
    {
     "name": "stdout",
     "output_type": "stream",
     "text": [
      "Collecting opencv-python\n",
      "  Downloading opencv_python-4.8.0.76-cp37-abi3-win_amd64.whl (38.1 MB)\n",
      "                                              0.0/38.1 MB ? eta -:--:--\n",
      "                                              0.5/38.1 MB 14.4 MB/s eta 0:00:03\n",
      "     -                                        1.4/38.1 MB 15.1 MB/s eta 0:00:03\n",
      "     --                                       2.3/38.1 MB 16.5 MB/s eta 0:00:03\n",
      "     ---                                      3.3/38.1 MB 17.7 MB/s eta 0:00:02\n",
      "     ----                                     4.4/38.1 MB 18.8 MB/s eta 0:00:02\n",
      "     -----                                    5.2/38.1 MB 18.3 MB/s eta 0:00:02\n",
      "     ------                                   5.9/38.1 MB 17.9 MB/s eta 0:00:02\n",
      "     -------                                  6.8/38.1 MB 18.2 MB/s eta 0:00:02\n",
      "     -------                                  7.5/38.1 MB 18.4 MB/s eta 0:00:02\n",
      "     --------                                 8.4/38.1 MB 17.9 MB/s eta 0:00:02\n",
      "     ---------                                9.1/38.1 MB 18.2 MB/s eta 0:00:02\n",
      "     ----------                              10.3/38.1 MB 18.2 MB/s eta 0:00:02\n",
      "     -----------                             11.1/38.1 MB 18.7 MB/s eta 0:00:02\n",
      "     ------------                            12.0/38.1 MB 18.7 MB/s eta 0:00:02\n",
      "     ------------                            12.7/38.1 MB 18.7 MB/s eta 0:00:02\n",
      "     -------------                           13.4/38.1 MB 18.2 MB/s eta 0:00:02\n",
      "     --------------                          14.3/38.1 MB 18.2 MB/s eta 0:00:02\n",
      "     ---------------                         15.2/38.1 MB 17.7 MB/s eta 0:00:02\n",
      "     ----------------                        16.2/38.1 MB 18.7 MB/s eta 0:00:02\n",
      "     -----------------                       17.1/38.1 MB 18.2 MB/s eta 0:00:02\n",
      "     ------------------                      17.9/38.1 MB 18.2 MB/s eta 0:00:02\n",
      "     -------------------                     18.9/38.1 MB 18.7 MB/s eta 0:00:02\n",
      "     --------------------                    19.9/38.1 MB 18.2 MB/s eta 0:00:01\n",
      "     --------------------                    20.4/38.1 MB 17.7 MB/s eta 0:00:01\n",
      "     ---------------------                   21.4/38.1 MB 17.7 MB/s eta 0:00:01\n",
      "     ----------------------                  22.4/38.1 MB 17.7 MB/s eta 0:00:01\n",
      "     -----------------------                 23.3/38.1 MB 17.7 MB/s eta 0:00:01\n",
      "     ------------------------                24.3/38.1 MB 18.7 MB/s eta 0:00:01\n",
      "     -------------------------               25.2/38.1 MB 18.7 MB/s eta 0:00:01\n",
      "     --------------------------              26.2/38.1 MB 18.2 MB/s eta 0:00:01\n",
      "     ---------------------------             27.2/38.1 MB 18.7 MB/s eta 0:00:01\n",
      "     ----------------------------            28.1/38.1 MB 18.7 MB/s eta 0:00:01\n",
      "     -----------------------------           29.1/38.1 MB 19.2 MB/s eta 0:00:01\n",
      "     ------------------------------          30.0/38.1 MB 19.3 MB/s eta 0:00:01\n",
      "     -------------------------------         30.8/38.1 MB 19.3 MB/s eta 0:00:01\n",
      "     --------------------------------        31.7/38.1 MB 19.3 MB/s eta 0:00:01\n",
      "     ---------------------------------       32.7/38.1 MB 19.2 MB/s eta 0:00:01\n",
      "     ----------------------------------      33.4/38.1 MB 19.3 MB/s eta 0:00:01\n",
      "     -----------------------------------     34.3/38.1 MB 18.7 MB/s eta 0:00:01\n",
      "     ------------------------------------    35.2/38.1 MB 18.7 MB/s eta 0:00:01\n",
      "     -------------------------------------   36.2/38.1 MB 19.2 MB/s eta 0:00:01\n",
      "     -------------------------------------   36.9/38.1 MB 18.7 MB/s eta 0:00:01\n",
      "     --------------------------------------  37.9/38.1 MB 19.3 MB/s eta 0:00:01\n",
      "     --------------------------------------  38.1/38.1 MB 18.7 MB/s eta 0:00:01\n",
      "     --------------------------------------  38.1/38.1 MB 18.7 MB/s eta 0:00:01\n",
      "     --------------------------------------  38.1/38.1 MB 18.7 MB/s eta 0:00:01\n",
      "     --------------------------------------  38.1/38.1 MB 18.7 MB/s eta 0:00:01\n",
      "     --------------------------------------  38.1/38.1 MB 18.7 MB/s eta 0:00:01\n",
      "     --------------------------------------  38.1/38.1 MB 18.7 MB/s eta 0:00:01\n",
      "     --------------------------------------- 38.1/38.1 MB 11.7 MB/s eta 0:00:00\n",
      "Collecting numpy>=1.21.2 (from opencv-python)\n",
      "  Downloading numpy-1.25.2-cp311-cp311-win_amd64.whl (15.5 MB)\n",
      "                                              0.0/15.5 MB ? eta -:--:--\n",
      "     ----                                     1.7/15.5 MB 35.9 MB/s eta 0:00:01\n",
      "     ------                                   2.6/15.5 MB 33.1 MB/s eta 0:00:01\n",
      "     ---------                                3.6/15.5 MB 28.6 MB/s eta 0:00:01\n",
      "     ----------                               4.1/15.5 MB 26.5 MB/s eta 0:00:01\n",
      "     -------------                            5.2/15.5 MB 22.1 MB/s eta 0:00:01\n",
      "     ---------------                          5.9/15.5 MB 21.0 MB/s eta 0:00:01\n",
      "     -----------------                        6.9/15.5 MB 20.9 MB/s eta 0:00:01\n",
      "     -------------------                      7.7/15.5 MB 20.4 MB/s eta 0:00:01\n",
      "     --------------------                     7.9/15.5 MB 18.6 MB/s eta 0:00:01\n",
      "     ----------------------                   8.7/15.5 MB 18.0 MB/s eta 0:00:01\n",
      "     ------------------------                 9.5/15.5 MB 17.9 MB/s eta 0:00:01\n",
      "     -------------------------               10.1/15.5 MB 17.1 MB/s eta 0:00:01\n",
      "     --------------------------              10.4/15.5 MB 16.0 MB/s eta 0:00:01\n",
      "     ----------------------------            11.3/15.5 MB 15.2 MB/s eta 0:00:01\n",
      "     -----------------------------           11.8/15.5 MB 14.6 MB/s eta 0:00:01\n",
      "     -------------------------------         12.7/15.5 MB 14.6 MB/s eta 0:00:01\n",
      "     ---------------------------------       13.3/15.5 MB 14.2 MB/s eta 0:00:01\n",
      "     ----------------------------------      13.7/15.5 MB 13.6 MB/s eta 0:00:01\n",
      "     -----------------------------------     14.2/15.5 MB 13.6 MB/s eta 0:00:01\n",
      "     -------------------------------------   15.0/15.5 MB 13.6 MB/s eta 0:00:01\n",
      "     --------------------------------------  15.5/15.5 MB 13.4 MB/s eta 0:00:01\n",
      "     --------------------------------------  15.5/15.5 MB 13.4 MB/s eta 0:00:01\n",
      "     --------------------------------------  15.5/15.5 MB 13.4 MB/s eta 0:00:01\n",
      "     --------------------------------------- 15.5/15.5 MB 11.1 MB/s eta 0:00:00\n",
      "Installing collected packages: numpy, opencv-python\n",
      "Successfully installed numpy-1.25.2 opencv-python-4.8.0.76\n",
      "Note: you may need to restart the kernel to use updated packages.\n"
     ]
    },
    {
     "name": "stderr",
     "output_type": "stream",
     "text": [
      "  WARNING: The script f2py.exe is installed in 'c:\\Users\\Daviid\\AppData\\Local\\Programs\\Python\\Python311\\Scripts' which is not on PATH.\n",
      "  Consider adding this directory to PATH or, if you prefer to suppress this warning, use --no-warn-script-location.\n",
      "\n",
      "[notice] A new release of pip is available: 23.1.2 -> 23.2.1\n",
      "[notice] To update, run: python.exe -m pip install --upgrade pip\n"
     ]
    }
   ],
   "source": [
    "pip install opencv-python"
   ]
  },
  {
   "cell_type": "code",
   "execution_count": 3,
   "metadata": {},
   "outputs": [],
   "source": [
    "import cv2\n",
    "\n",
    "# Cargar el clasificador pre-entrenado para la detección de rostros\n",
    "face_cascade = cv2.CascadeClassifier(cv2.data.haarcascades + 'haarcascade_frontalface_default.xml')\n",
    "\n",
    "# Inicializar la cámara\n",
    "cap = cv2.VideoCapture(0)  # 0 representa la cámara predeterminada\n",
    "\n",
    "while True:\n",
    "    # Leer un fotograma de la cámara\n",
    "    ret, frame = cap.read()\n",
    "\n",
    "    # Convertir el fotograma a escala de grises para la detección de rostros\n",
    "    gray = cv2.cvtColor(frame, cv2.COLOR_BGR2GRAY)\n",
    "\n",
    "    # Detectar rostros en el fotograma\n",
    "    faces = face_cascade.detectMultiScale(gray, scaleFactor=1.3, minNeighbors=5, minSize=(30, 30))\n",
    "\n",
    "    # Dibujar un rectángulo alrededor de cada rostro detectado\n",
    "    for (x, y, w, h) in faces:\n",
    "        cv2.rectangle(frame, (x, y), (x+w, y+h), (0, 255, 0), 2)\n",
    "\n",
    "    # Mostrar el fotograma resultante\n",
    "    cv2.imshow('Detección de Rostros', frame)\n",
    "\n",
    "    # Salir del bucle si se presiona la tecla 'q'\n",
    "    if cv2.waitKey(1) & 0xFF == ord('q'):\n",
    "        break\n",
    "\n",
    "# Liberar la cámara y cerrar la ventana\n",
    "cap.release()\n",
    "cv2.destroyAllWindows()"
   ]
  },
  {
   "cell_type": "markdown",
   "metadata": {},
   "source": [
    "1) Crear una variable que contenga un elemento del conjunto de números enteros y luego imprimir por pantalla si es mayor o menor a cero"
   ]
  },
  {
   "cell_type": "code",
   "execution_count": 16,
   "metadata": {},
   "outputs": [
    {
     "name": "stdout",
     "output_type": "stream",
     "text": [
      "El número es mayor a cero\n"
     ]
    }
   ],
   "source": [
    "num = 5\n",
    "if (num < 0):\n",
    "    print ('El número es menor a cero')\n",
    "elif (num > 0):\n",
    "    print ('El número es mayor a cero')\n",
    "else:\n",
    "    print('El número es igual a cero')"
   ]
  },
  {
   "attachments": {},
   "cell_type": "markdown",
   "metadata": {},
   "source": [
    "2) Crear dos variables y un condicional que informe si son del mismo tipo de dato"
   ]
  },
  {
   "cell_type": "code",
   "execution_count": 25,
   "metadata": {},
   "outputs": [
    {
     "name": "stdout",
     "output_type": "stream",
     "text": [
      "Las variables son del mismo tipo Ambas son: <class 'str'>\n"
     ]
    }
   ],
   "source": [
    "var1 = 'Hola'\n",
    "var2 = 'Mundo'\n",
    "\n",
    "if (type(var1) == type(var2)):\n",
    "    print('Las variables son del mismo tipo', 'Ambas son:', type(var1))\n",
    "else: \n",
    "    print ('Las variables son de diferente tipo', 'Una de ellas es:', type(var1), 'y la otra es:', type(var2))"
   ]
  },
  {
   "attachments": {},
   "cell_type": "markdown",
   "metadata": {},
   "source": [
    "3) Para los valores enteros del 1 al 20, imprimir por pantalla si es par o impar"
   ]
  },
  {
   "cell_type": "code",
   "execution_count": 27,
   "metadata": {},
   "outputs": [
    {
     "name": "stdout",
     "output_type": "stream",
     "text": [
      "El número 1 es impar\n",
      "El número 2 es par\n",
      "El número 3 es impar\n",
      "El número 4 es par\n",
      "El número 5 es impar\n",
      "El número 6 es par\n",
      "El número 7 es impar\n",
      "El número 8 es par\n",
      "El número 9 es impar\n",
      "El número 10 es par\n",
      "El número 11 es impar\n",
      "El número 12 es par\n",
      "El número 13 es impar\n",
      "El número 14 es par\n",
      "El número 15 es impar\n",
      "El número 16 es par\n",
      "El número 17 es impar\n",
      "El número 18 es par\n",
      "El número 19 es impar\n",
      "El número 20 es par\n"
     ]
    }
   ],
   "source": [
    "for i in range (1, 21):\n",
    "    if i % 2 ==0:\n",
    "        print ('El número', i, 'es par')\n",
    "    else: \n",
    "        print ('El número', i, 'es impar')"
   ]
  },
  {
   "cell_type": "code",
   "execution_count": 32,
   "metadata": {},
   "outputs": [
    {
     "name": "stdout",
     "output_type": "stream",
     "text": [
      "El número 1 es impar\n",
      "El número 2 es par\n",
      "El número 3 es impar\n",
      "El número 4 es par\n",
      "El número 5 es impar\n",
      "El número 6 es par\n",
      "El número 7 es impar\n",
      "El número 8 es par\n",
      "El número 9 es impar\n",
      "El número 10 es par\n",
      "El número 11 es impar\n",
      "El número 12 es par\n",
      "El número 13 es impar\n",
      "El número 14 es par\n",
      "El número 15 es impar\n",
      "El número 16 es par\n",
      "El número 17 es impar\n",
      "El número 18 es par\n",
      "El número 19 es impar\n",
      "El número 20 es par\n"
     ]
    }
   ],
   "source": [
    "i = 1\n",
    "while (i < 21):\n",
    "    if (i % 2 == 0):\n",
    "        print ('El número', i, 'es par')\n",
    "    else: \n",
    "        print ('El número', i, 'es impar')\n",
    "    i = i + 1"
   ]
  },
  {
   "attachments": {},
   "cell_type": "markdown",
   "metadata": {},
   "source": [
    "4) En un ciclo for mostrar para los valores entre 0 y 5 el resultado de elevarlo a la potencia igual a 3"
   ]
  },
  {
   "cell_type": "code",
   "execution_count": 39,
   "metadata": {},
   "outputs": [
    {
     "name": "stdout",
     "output_type": "stream",
     "text": [
      "0\n",
      "1\n",
      "8\n",
      "27\n",
      "64\n",
      "125\n"
     ]
    }
   ],
   "source": [
    "numeros = [0,1,2,3,4,5]\n",
    "for num in numeros:\n",
    "    pot = num**3\n",
    "    print(pot)"
   ]
  },
  {
   "attachments": {},
   "cell_type": "markdown",
   "metadata": {},
   "source": [
    "5) Crear una variable que contenga un número entero y realizar un ciclo for la misma cantidad de ciclos"
   ]
  },
  {
   "cell_type": "code",
   "execution_count": 40,
   "metadata": {},
   "outputs": [
    {
     "name": "stdout",
     "output_type": "stream",
     "text": [
      "12\n"
     ]
    }
   ],
   "source": [
    "n = 13\n",
    "for i in range(0, n):\n",
    "    pass\n",
    "print(i)"
   ]
  },
  {
   "attachments": {},
   "cell_type": "markdown",
   "metadata": {},
   "source": [
    "6) Utilizar un ciclo while para realizar el factorial de un número guardado en una variable, sólo si la variable contiene un número entero mayor a 0"
   ]
  },
  {
   "cell_type": "code",
   "execution_count": 48,
   "metadata": {},
   "outputs": [
    {
     "name": "stdout",
     "output_type": "stream",
     "text": [
      "El factorial es: 120\n"
     ]
    }
   ],
   "source": [
    "numg = 5\n",
    "if (type (numg) == int):\n",
    "    if (numg > 0):\n",
    "        factorial = numg\n",
    "        while (numg > 1):\n",
    "            numg = numg - 1\n",
    "            factorial = factorial * numg\n",
    "        print ('El factorial es:', factorial)\n",
    "    else: \n",
    "        print('El número no es mayor a cero')\n",
    "else: \n",
    "    print ('El número no es entero')\n"
   ]
  },
  {
   "attachments": {},
   "cell_type": "markdown",
   "metadata": {},
   "source": [
    "7) Crear un ciclo for dentro de un ciclo while"
   ]
  },
  {
   "cell_type": "code",
   "execution_count": 66,
   "metadata": {},
   "outputs": [
    {
     "ename": "IndentationError",
     "evalue": "expected an indented block after 'while' statement on line 4 (1022639832.py, line 5)",
     "output_type": "error",
     "traceback": [
      "\u001b[1;36m  Cell \u001b[1;32mIn[66], line 5\u001b[1;36m\u001b[0m\n\u001b[1;33m    suma = n + 1\u001b[0m\n\u001b[1;37m    ^\u001b[0m\n\u001b[1;31mIndentationError\u001b[0m\u001b[1;31m:\u001b[0m expected an indented block after 'while' statement on line 4\n"
     ]
    }
   ],
   "source": [
    "n = 2\n",
    "\n",
    "for i in range (0, n):\n",
    "    while (n != 2):\n",
    "    suma = n + 1\n",
    "\n",
    "print ('Bien hecho')"
   ]
  },
  {
   "attachments": {},
   "cell_type": "markdown",
   "metadata": {},
   "source": [
    "8) Crear un ciclo while dentro de un ciclo for"
   ]
  },
  {
   "cell_type": "code",
   "execution_count": null,
   "metadata": {},
   "outputs": [],
   "source": []
  },
  {
   "attachments": {},
   "cell_type": "markdown",
   "metadata": {},
   "source": [
    "9) Imprimir los números primos existentes entre 0 y 30"
   ]
  },
  {
   "cell_type": "code",
   "execution_count": 18,
   "metadata": {},
   "outputs": [
    {
     "name": "stdout",
     "output_type": "stream",
     "text": [
      "2\n",
      "3\n",
      "5\n",
      "7\n",
      "11\n",
      "13\n",
      "17\n",
      "19\n",
      "23\n",
      "29\n"
     ]
    }
   ],
   "source": [
    "# 30 números primos Clase\n",
    "n = 2\n",
    "tope_rango = 30\n",
    "primo = True\n",
    "while (n < tope_rango):\n",
    "    for div in range(2, n):\n",
    "        if (n % div == 0):\n",
    "            primo = False\n",
    "            break\n",
    "    if (primo):\n",
    "        print(n)\n",
    "    else:\n",
    "        primo = True\n",
    "    n += 1"
   ]
  },
  {
   "cell_type": "code",
   "execution_count": 17,
   "metadata": {},
   "outputs": [
    {
     "name": "stdout",
     "output_type": "stream",
     "text": [
      "2 : Es primo\n",
      "3 : Es primo\n",
      "5 : Es primo\n",
      "7 : Es primo\n",
      "11 : Es primo\n",
      "13 : Es primo\n",
      "17 : Es primo\n",
      "19 : Es primo\n",
      "23 : Es primo\n",
      "29 : Es primo\n"
     ]
    }
   ],
   "source": [
    "#30 Números primos\n",
    "for nro in range (2, 31):\n",
    "    primo = True\n",
    "    for i in range (2, nro):\n",
    "        if (nro % i==0):\n",
    "            primo = False\n",
    "            break\n",
    "    if (primo): \n",
    "        print(nro, ': Es primo')"
   ]
  },
  {
   "cell_type": "code",
   "execution_count": 5,
   "metadata": {},
   "outputs": [
    {
     "name": "stdout",
     "output_type": "stream",
     "text": [
      "6 :No es primo\n"
     ]
    }
   ],
   "source": [
    "# Ver si un número es primo o no\n",
    "num3 = 6\n",
    "primo = True\n",
    "for i in range (2, num3):\n",
    "    primo = False\n",
    "if (primo):\n",
    "    print(num3, ':Es primo')\n",
    "else:\n",
    "    print(num3, ':No es primo')\n",
    "    "
   ]
  },
  {
   "attachments": {},
   "cell_type": "markdown",
   "metadata": {},
   "source": [
    "10) ¿Se puede mejorar el proceso del punto 9? Utilizar las sentencias break y/ó continue para tal fin"
   ]
  },
  {
   "cell_type": "code",
   "execution_count": 22,
   "metadata": {},
   "outputs": [
    {
     "name": "stdout",
     "output_type": "stream",
     "text": [
      "2 : Es primo\n",
      "3 : Es primo\n",
      "5 : Es primo\n",
      "7 : Es primo\n",
      "11 : Es primo\n",
      "13 : Es primo\n",
      "17 : Es primo\n",
      "19 : Es primo\n",
      "23 : Es primo\n",
      "29 : Es primo\n",
      "La cantidad de ciclos es: 406\n"
     ]
    }
   ],
   "source": [
    "#30 Números primos con break\n",
    "ciclos_break = 0\n",
    "for nro in range (2, 31):\n",
    "    primo = True\n",
    "    for i in range (2, nro):\n",
    "        ciclos_break +=1\n",
    "        if (nro % i==0):\n",
    "            primo = False\n",
    "            break\n",
    "    if (primo): \n",
    "        print(nro, ': Es primo')\n",
    "print('La cantidad de ciclos es:', ciclos_break)"
   ]
  },
  {
   "cell_type": "code",
   "execution_count": 23,
   "metadata": {},
   "outputs": [
    {
     "name": "stdout",
     "output_type": "stream",
     "text": [
      "2 : Es primo\n",
      "3 : Es primo\n",
      "5 : Es primo\n",
      "7 : Es primo\n",
      "11 : Es primo\n",
      "13 : Es primo\n",
      "17 : Es primo\n",
      "19 : Es primo\n",
      "23 : Es primo\n",
      "29 : Es primo\n",
      "La cantidad de ciclos es: 406\n"
     ]
    }
   ],
   "source": [
    "#30 Números primos sin break\n",
    "ciclos_break = 0\n",
    "for nro in range (2, 31):\n",
    "    primo = True\n",
    "    for i in range (2, nro):\n",
    "        ciclos_break +=1\n",
    "        if (nro % i==0):\n",
    "            primo = False\n",
    "            #break\n",
    "    if (primo): \n",
    "        print(nro, ': Es primo')\n",
    "print('La cantidad de ciclos es:', ciclos_break)"
   ]
  },
  {
   "attachments": {},
   "cell_type": "markdown",
   "metadata": {},
   "source": [
    "11) En los puntos 9 y 10, se diseño un código que encuentra números primos y además se lo optimizó. ¿Es posible saber en qué medida se optimizó?"
   ]
  },
  {
   "cell_type": "code",
   "execution_count": null,
   "metadata": {},
   "outputs": [],
   "source": []
  },
  {
   "attachments": {},
   "cell_type": "markdown",
   "metadata": {},
   "source": [
    "12) Aplicando continue, armar un ciclo while que solo imprima los valores divisibles por 12, dentro del rango de números de 100 a 300"
   ]
  },
  {
   "cell_type": "code",
   "execution_count": 88,
   "metadata": {},
   "outputs": [
    {
     "name": "stdout",
     "output_type": "stream",
     "text": [
      "108 es divisible por 12\n",
      "120 es divisible por 12\n",
      "132 es divisible por 12\n",
      "144 es divisible por 12\n",
      "156 es divisible por 12\n",
      "168 es divisible por 12\n",
      "180 es divisible por 12\n",
      "192 es divisible por 12\n",
      "204 es divisible por 12\n",
      "216 es divisible por 12\n",
      "228 es divisible por 12\n",
      "240 es divisible por 12\n",
      "252 es divisible por 12\n",
      "264 es divisible por 12\n",
      "276 es divisible por 12\n",
      "288 es divisible por 12\n",
      "300 es divisible por 12\n"
     ]
    }
   ],
   "source": [
    "num = 100\n",
    "while (num <= 300):\n",
    "    num = num + 1\n",
    "    if (num % 12 != 0):\n",
    "     continue\n",
    "    print (num, 'es divisible por 12')\n"
   ]
  },
  {
   "attachments": {},
   "cell_type": "markdown",
   "metadata": {},
   "source": [
    "13) Utilizar la función **input()** que permite hacer ingresos por teclado, para encontrar números primos y dar la opción al usario de buscar el siguiente"
   ]
  },
  {
   "cell_type": "code",
   "execution_count": 25,
   "metadata": {},
   "outputs": [
    {
     "name": "stdout",
     "output_type": "stream",
     "text": [
      "1\n",
      "¿Desea encontrar el siguiente número primo?\n",
      "2\n",
      "¿Desea encontrar el siguiente número primo?\n",
      "Se finaliza el proceso\n"
     ]
    }
   ],
   "source": [
    "n = 1\n",
    "sigue = 1\n",
    "primo = True\n",
    "while (sigue == 1):\n",
    "    for div in range(2, n):\n",
    "        if (n % div == 0):\n",
    "            primo = False\n",
    "            break\n",
    "    if (primo):\n",
    "        print(n)\n",
    "        print('¿Desea encontrar el siguiente número primo?')\n",
    "        if (input() != '1'):\n",
    "            print('Se finaliza el proceso')\n",
    "            break\n",
    "    else:\n",
    "        primo = True\n",
    "    n += 1"
   ]
  },
  {
   "attachments": {},
   "cell_type": "markdown",
   "metadata": {},
   "source": [
    "14) Crear un ciclo while que encuentre dentro del rango de 100 a 300 el primer número divisible por 3 y además múltiplo de 6"
   ]
  },
  {
   "cell_type": "code",
   "execution_count": 24,
   "metadata": {},
   "outputs": [
    {
     "name": "stdout",
     "output_type": "stream",
     "text": [
      "El número es:  102\n"
     ]
    }
   ],
   "source": [
    "n = 100\n",
    "while(n<=300):\n",
    "    if (n % 6 == 0):\n",
    "        print('El número es: ', str(n))\n",
    "        break\n",
    "    n += 1"
   ]
  }
 ],
 "metadata": {
  "interpreter": {
   "hash": "c85384e4cb51c8b72350f3a8712cc8351fdc3955e32a27f9b60c6242ab125f01"
  },
  "kernelspec": {
   "display_name": "Python 3 (ipykernel)",
   "language": "python",
   "name": "python3"
  },
  "language_info": {
   "codemirror_mode": {
    "name": "ipython",
    "version": 3
   },
   "file_extension": ".py",
   "mimetype": "text/x-python",
   "name": "python",
   "nbconvert_exporter": "python",
   "pygments_lexer": "ipython3",
   "version": "3.11.4"
  }
 },
 "nbformat": 4,
 "nbformat_minor": 4
}
